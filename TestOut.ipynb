{
  "nbformat": 4,
  "nbformat_minor": 0,
  "metadata": {
    "colab": {
      "name": "TestOut.ipynb",
      "provenance": []
    },
    "kernelspec": {
      "name": "python3",
      "display_name": "Python 3"
    },
    "language_info": {
      "name": "python"
    }
  },
  "cells": [
    {
      "cell_type": "code",
      "metadata": {
        "id": "wCsQUGEA33Lz"
      },
      "source": [
        "from urllib.request import urlopen\n",
        "from bs4 import BeautifulSoup\n",
        "import pandas as pd"
      ],
      "execution_count": 1,
      "outputs": []
    },
    {
      "cell_type": "code",
      "metadata": {
        "id": "rAJOwHmKJjoM"
      },
      "source": [
        "import re"
      ],
      "execution_count": 2,
      "outputs": []
    },
    {
      "cell_type": "code",
      "metadata": {
        "id": "EknZlwCd37b4"
      },
      "source": [
        "url = \"https://www.basketball-reference.com/players/a/abdulka01.html\""
      ],
      "execution_count": 3,
      "outputs": []
    },
    {
      "cell_type": "code",
      "metadata": {
        "id": "BUQDeK9K4ub4"
      },
      "source": [
        "html = urlopen(url)"
      ],
      "execution_count": 4,
      "outputs": []
    },
    {
      "cell_type": "code",
      "metadata": {
        "id": "Gd25-iwQ46vy"
      },
      "source": [
        "soup = BeautifulSoup(html)"
      ],
      "execution_count": 5,
      "outputs": []
    },
    {
      "cell_type": "code",
      "metadata": {
        "id": "UwAaDcJ6KdFG"
      },
      "source": [
        "Accolade = []\n",
        "for ultag in soup.find_all('ul', {'id': \"bling\"}):\n",
        "  for litag in ultag.find_all('li'):\n",
        "    Accolade.append(litag.text)"
      ],
      "execution_count": 6,
      "outputs": []
    },
    {
      "cell_type": "markdown",
      "metadata": {
        "id": "OVIcDUTvtExF"
      },
      "source": [
        "## https://stackoverflow.com/questions/17246963/how-to-find-all-lis-within-a-specific-ul-class"
      ]
    },
    {
      "cell_type": "code",
      "metadata": {
        "colab": {
          "base_uri": "https://localhost:8080/"
        },
        "id": "O6ziQelRt-yQ",
        "outputId": "c58658b6-ffa5-41fa-e1f2-8f7a8aa2b69f"
      },
      "source": [
        "Accolade"
      ],
      "execution_count": 7,
      "outputs": [
        {
          "output_type": "execute_result",
          "data": {
            "text/plain": [
              "['Hall of Fame',\n",
              " '19x All Star',\n",
              " '2x Scoring Champ',\n",
              " '1975-76 TRB Champ',\n",
              " '4x BLK Champ',\n",
              " '6x NBA Champ',\n",
              " '15x All-NBA',\n",
              " '11x All-Defensive',\n",
              " '1969-70 All-Rookie',\n",
              " '2x Finals MVP',\n",
              " '6x MVP',\n",
              " '1969-70 ROY']"
            ]
          },
          "metadata": {
            "tags": []
          },
          "execution_count": 7
        }
      ]
    },
    {
      "cell_type": "code",
      "metadata": {
        "id": "IRuVkTgFskZS"
      },
      "source": [
        ""
      ],
      "execution_count": null,
      "outputs": []
    }
  ]
}